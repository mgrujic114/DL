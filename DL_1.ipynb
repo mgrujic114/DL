{
  "nbformat": 4,
  "nbformat_minor": 0,
  "metadata": {
    "colab": {
      "provenance": [],
      "collapsed_sections": [
        "WU99MZJD2lf6",
        "4jWaQGRO2wyl"
      ],
      "toc_visible": true,
      "gpuType": "T4"
    },
    "kernelspec": {
      "name": "python3",
      "display_name": "Python 3"
    },
    "language_info": {
      "name": "python"
    },
    "accelerator": "GPU"
  },
  "cells": [
    {
      "cell_type": "code",
      "source": [
        "from tensorflow.keras import backend as K\n",
        "K.clear_session()"
      ],
      "metadata": {
        "id": "tKjgt2PnTxpg"
      },
      "execution_count": 1,
      "outputs": []
    },
    {
      "cell_type": "markdown",
      "source": [
        "# analiza i priprema"
      ],
      "metadata": {
        "id": "p_zwY4h3LAFM"
      }
    },
    {
      "cell_type": "code",
      "source": [
        "import os\n",
        "import cv2\n",
        "import numpy as np\n",
        "import matplotlib.pyplot as plt\n",
        "from sklearn.cluster import KMeans\n",
        "import pandas as pd\n",
        "\n",
        "import hashlib\n",
        "from collections import defaultdict\n",
        "\n",
        "import torch\n",
        "import torch.nn as nn\n",
        "import torch.nn.functional as F\n",
        "from torchvision import datasets\n",
        "from torch.utils.data import DataLoader\n",
        "from torchvision import transforms as trans\n",
        "from PIL import Image\n",
        "\n",
        "if torch.cuda.is_available():\n",
        "    device = torch.device('cuda')\n",
        "else:\n",
        "    device = torch.device('cpu')\n",
        "\n",
        "print('Using PyTorch version:', torch.__version__, ' Device:', device)"
      ],
      "metadata": {
        "colab": {
          "base_uri": "https://localhost:8080/"
        },
        "id": "s2Fu-OaRTizs",
        "outputId": "b661ff72-6937-411e-8c55-6e384cd6cdfd"
      },
      "execution_count": 2,
      "outputs": [
        {
          "output_type": "stream",
          "name": "stdout",
          "text": [
            "Using PyTorch version: 2.5.1+cu121  Device: cuda\n"
          ]
        }
      ]
    },
    {
      "cell_type": "code",
      "source": [
        "from google.colab import drive\n",
        "\n",
        "drive.mount('/content/drive')"
      ],
      "metadata": {
        "colab": {
          "base_uri": "https://localhost:8080/"
        },
        "id": "DC8yTIKUXePC",
        "outputId": "4a7713db-48d3-4f78-bb51-84b0860d36ba"
      },
      "execution_count": 3,
      "outputs": [
        {
          "output_type": "stream",
          "name": "stdout",
          "text": [
            "Mounted at /content/drive\n"
          ]
        }
      ]
    },
    {
      "cell_type": "code",
      "source": [
        "path = \"/content/drive/MyDrive/VII /DU/Christmas Cactus (Schlumbergera bridgesii)\"\n",
        "\n",
        "if os.path.exists(path):\n",
        "    print(f\"Folder '{path}' is successfully loaded.\")\n",
        "else:\n",
        "    print(f\"Folder '{path}' does not exist. Check the path.\")"
      ],
      "metadata": {
        "colab": {
          "base_uri": "https://localhost:8080/"
        },
        "id": "WGOWIkQ3XorY",
        "outputId": "f665b287-a79b-4722-98fb-48d8b8a4f8ff"
      },
      "execution_count": 4,
      "outputs": [
        {
          "output_type": "stream",
          "name": "stdout",
          "text": [
            "Folder '/content/drive/MyDrive/VII /DU/Christmas Cactus (Schlumbergera bridgesii)' is successfully loaded.\n"
          ]
        }
      ]
    },
    {
      "cell_type": "code",
      "source": [
        "def calculate_image_hash(image_path):\n",
        "\n",
        "    with open(image_path, 'rb') as f:\n",
        "        img_data = f.read()\n",
        "    return hashlib.sha256(img_data).hexdigest()\n",
        "\n",
        "def find_duplicates(folder_path):\n",
        "\n",
        "    hash_dict = defaultdict(list)\n",
        "\n",
        "    for root, _, files in os.walk(folder_path):\n",
        "        for file in files:\n",
        "            file_path = os.path.join(root, file)\n",
        "            try:\n",
        "                img_hash = calculate_image_hash(file_path)\n",
        "                hash_dict[img_hash].append(file_path)\n",
        "            except Exception as e:\n",
        "                print(f\"Greška pri čitanju fajla {file_path}: {e}\")\n",
        "\n",
        "    duplicates = {hash_value: paths for hash_value, paths in hash_dict.items() if len(paths) > 1}\n",
        "    return duplicates\n",
        "\n",
        "duplicates = find_duplicates(path)\n",
        "\n",
        "if duplicates:\n",
        "    print(f\"Pronađeni su duplikati: ({len(duplicates)} različite grupe duplikata)\")\n",
        "    for i, (hash_value, paths) in enumerate(duplicates.items(), start=1):\n",
        "        print(f\"\\nGrupa {i}:\")\n",
        "        for path in paths:\n",
        "            print(f\"  - {path}\")\n",
        "else:\n",
        "    print(\"Nema duplikata u folderu.\")"
      ],
      "metadata": {
        "colab": {
          "base_uri": "https://localhost:8080/"
        },
        "id": "Y7Q2ek1aX-GP",
        "outputId": "29e93a16-6ab3-47ea-ba54-704ce92ff4e0"
      },
      "execution_count": 5,
      "outputs": [
        {
          "output_type": "stream",
          "name": "stdout",
          "text": [
            "Nema duplikata u folderu.\n"
          ]
        }
      ]
    },
    {
      "cell_type": "code",
      "source": [
        "def analyze_saturation(folder_path):\n",
        "    saturation_levels = []\n",
        "    for root, _, files in os.walk(folder_path):\n",
        "        for file in files:\n",
        "            file_path = os.path.join(root, file)\n",
        "            img = cv2.imread(file_path)\n",
        "            if img is not None:\n",
        "                hsv = cv2.cvtColor(img, cv2.COLOR_BGR2HSV)\n",
        "                saturation = hsv[:, :, 1]\n",
        "                avg_saturation = np.mean(saturation)\n",
        "                saturation_levels.append(avg_saturation)\n",
        "\n",
        "    plt.figure(figsize=(10, 5))\n",
        "    plt.hist(saturation_levels, bins=20, color='pink', alpha=0.7)\n",
        "    plt.title(\"color saturation distribution\")\n",
        "    plt.xlabel(\"avg saat\")\n",
        "    plt.ylabel(\"img\")\n",
        "    plt.show()\n",
        "\n",
        "analyze_saturation(path)"
      ],
      "metadata": {
        "colab": {
          "base_uri": "https://localhost:8080/",
          "height": 487
        },
        "id": "SwlkS5RZYQVI",
        "outputId": "310eef79-ad80-4166-a228-d0916af5124f"
      },
      "execution_count": 6,
      "outputs": [
        {
          "output_type": "display_data",
          "data": {
            "text/plain": [
              "<Figure size 1000x500 with 1 Axes>"
            ],
            "image/png": "[encoded data removed]"
          },
          "metadata": {}
        }
      ]
    },
    {
      "cell_type": "code",
      "source": [
        "folder_path = path\n",
        "\n",
        "def get_dominant_color(image, k=1):\n",
        "    image = cv2.cvtColor(image, cv2.COLOR_BGR2RGB)\n",
        "    reshaped_image = image.reshape((-1, 3))\n",
        "    kmeans = KMeans(n_clusters=k, random_state=42)\n",
        "    kmeans.fit(reshaped_image)\n",
        "    return kmeans.cluster_centers_[0]\n",
        "\n",
        "images = []\n",
        "image_names = []\n",
        "\n",
        "for filename in os.listdir(folder_path):\n",
        "    file_path = os.path.join(folder_path, filename)\n",
        "    if os.path.isfile(file_path) and filename.lower().endswith(('.png', '.jpg', '.jpeg')):\n",
        "        img = cv2.imread(file_path)\n",
        "        if img is not None:\n",
        "            images.append(img)\n",
        "            image_names.append(filename)\n",
        "\n",
        "print(f\"Loaded {len(images)} images.\")"
      ],
      "metadata": {
        "colab": {
          "base_uri": "https://localhost:8080/"
        },
        "id": "ByRIRB83dWAW",
        "outputId": "ccb0ffea-6358-4699-ffb1-c2069d2a38ba"
      },
      "execution_count": 7,
      "outputs": [
        {
          "output_type": "stream",
          "name": "stdout",
          "text": [
            "Loaded 306 images.\n"
          ]
        }
      ]
    },
    {
      "cell_type": "code",
      "source": [
        "dominant_colors = [get_dominant_color(img) for img in images]\n",
        "\n",
        "dataset = [(image_names[i], dominant_colors[i]) for i in range(len(dominant_colors))]\n",
        "\n",
        "df = pd.DataFrame(dataset, columns=[\"Image Name\", \"Dominant Color\"])\n",
        "df[\"Dominant Color\"] = df[\"Dominant Color\"].apply(lambda x: list(map(int, x)))\n",
        "\n",
        "csv_path = '/content/drive/My Drive/dominant_colors_dataset.csv'\n",
        "df.to_csv(csv_path, index=False)\n",
        "print(f\"Dataset saved to {csv_path}.\")\n"
      ],
      "metadata": {
        "colab": {
          "base_uri": "https://localhost:8080/"
        },
        "collapsed": true,
        "id": "Qfim9qgIbq9Y",
        "outputId": "e1f7b57d-f911-42f9-a33e-490d2836f12e"
      },
      "execution_count": 8,
      "outputs": [
        {
          "output_type": "stream",
          "name": "stdout",
          "text": [
            "Dataset saved to /content/drive/My Drive/dominant_colors_dataset.csv.\n"
          ]
        }
      ]
    },
    {
      "cell_type": "code",
      "source": [
        "df = pd.read_csv(csv_path)\n",
        "\n",
        "image_paths = [os.path.join(path, name) for name in df[\"Image Name\"]]\n",
        "dominant_colors = np.array([eval(color) for color in df[\"Dominant Color\"]])\n",
        "normalized_colors = dominant_colors / 255.0"
      ],
      "metadata": {
        "id": "N8mDORAlfn-f"
      },
      "execution_count": 9,
      "outputs": []
    },
    {
      "cell_type": "code",
      "source": [
        "import tensorflow as tf\n",
        "from sklearn.model_selection import train_test_split\n",
        "from sklearn.metrics import mean_squared_error\n",
        "from tensorflow.keras.preprocessing import image"
      ],
      "metadata": {
        "id": "ps4sC9PEfVZs"
      },
      "execution_count": 10,
      "outputs": []
    },
    {
      "cell_type": "code",
      "source": [
        "def build_regression_model(base_model, name):\n",
        "    inputs = base_model.input\n",
        "    x = base_model.output\n",
        "    x = tf.keras.layers.Dense(256, activation='relu')(x)\n",
        "    outputs = tf.keras.layers.Dense(3, activation='sigmoid')(x)\n",
        "    model = tf.keras.Model(inputs, outputs, name=name)\n",
        "    model.compile(optimizer='adam', loss='mse', metrics=['mae'])\n",
        "    return model"
      ],
      "metadata": {
        "id": "AtJnPsFlf1b6"
      },
      "execution_count": 11,
      "outputs": []
    },
    {
      "cell_type": "code",
      "source": [
        "def preprocess_images(image_paths, model_type):\n",
        "    processed_images = []\n",
        "    for img_path in image_paths:\n",
        "        if model_type == \"vgg\" or model_type == \"resnet\":\n",
        "            target_size = (224, 224)\n",
        "        else:\n",
        "            target_size = (299, 299)\n",
        "\n",
        "        img = image.load_img(img_path, target_size=target_size)\n",
        "        img_array = image.img_to_array(img)\n",
        "        img_array = np.expand_dims(img_array, axis=0)\n",
        "\n",
        "        if model_type == \"vgg\":\n",
        "            img_array = preprocess_input_vgg(img_array)\n",
        "        elif model_type == \"inception\":\n",
        "            img_array = preprocess_input_inception(img_array)\n",
        "        elif model_type == \"resnet\":\n",
        "            img_array = preprocess_input_resnet(img_array)\n",
        "        processed_images.append(img_array)\n",
        "    return np.vstack(processed_images)"
      ],
      "metadata": {
        "id": "kfeNWVH1frn2"
      },
      "execution_count": 12,
      "outputs": []
    },
    {
      "cell_type": "code",
      "source": [
        "def plot_training_history(history, title):\n",
        "    plt.figure(figsize=(12, 5))\n",
        "    plt.subplot(1, 2, 1)\n",
        "    plt.plot(history.history['loss'], label='Train Loss')\n",
        "    plt.plot(history.history['val_loss'], label='Val Loss')\n",
        "    plt.title(f\"{title} Loss\")\n",
        "    plt.legend()\n",
        "\n",
        "    plt.show()"
      ],
      "metadata": {
        "id": "x3zhON5dgG7y"
      },
      "execution_count": 13,
      "outputs": []
    },
    {
      "cell_type": "markdown",
      "source": [
        "# VGG"
      ],
      "metadata": {
        "id": "l0qYADXoZMjm"
      }
    },
    {
      "cell_type": "code",
      "source": [
        "from tensorflow.keras.applications import VGG16\n",
        "from tensorflow.keras.applications.vgg16 import preprocess_input as preprocess_input_vgg\n",
        "\n",
        "images_vgg = preprocess_images(image_paths, model_type=\"vgg\")\n",
        "\n",
        "vgg_model = VGG16(weights='imagenet', include_top=False, pooling='avg', input_shape=(224, 224, 3))\n",
        "\n",
        "vgg_regression = build_regression_model(vgg_model, \"VGG16_Regression\")\n",
        "\n",
        "X_train_vgg, X_val_vgg, y_train, y_val = train_test_split(images_vgg, normalized_colors, test_size=0.2, random_state=42)"
      ],
      "metadata": {
        "colab": {
          "base_uri": "https://localhost:8080/"
        },
        "collapsed": true,
        "id": "WuU4-dArL8ug",
        "outputId": "612a04de-4a8c-4828-895a-0fc8990e629a"
      },
      "execution_count": 14,
      "outputs": [
        {
          "output_type": "stream",
          "name": "stdout",
          "text": [
            "Downloading data from https://storage.googleapis.com/tensorflow/keras-applications/vgg16/vgg16_weights_tf_dim_ordering_tf_kernels_notop.h5\n",
            "\u001b[1m58889256/58889256\u001b[0m \u001b[32m━━━━━━━━━━━━━━━━━━━━\u001b[0m\u001b[37m\u001b[0m \u001b[1m0s\u001b[0m 0us/step\n"
          ]
        }
      ]
    },
    {
      "cell_type": "code",
      "source": [
        "print(\"Training VGG16 regression model...\")\n",
        "history_vgg = vgg_regression.fit(X_train_vgg, y_train, validation_data=(X_val_vgg, y_val), epochs=10, batch_size=16)\n",
        "\n",
        "vgg_loss, vgg_mae = vgg_regression.evaluate(X_val_vgg, y_val)\n",
        "\n",
        "print(f\"VGG16 - Loss: {vgg_loss}, Acc: {vgg_mae}\")\n",
        "\n",
        "plot_training_history(history_vgg, \"VGG16\")"
      ],
      "metadata": {
        "colab": {
          "base_uri": "https://localhost:8080/",
          "height": 867
        },
        "id": "ONCDAEx3brga",
        "outputId": "5812df1f-6149-4a49-db6d-27cce392d2dc"
      },
      "execution_count": 21,
      "outputs": [
        {
          "output_type": "stream",
          "name": "stdout",
          "text": [
            "Training VGG16 regression model...\n",
            "Epoch 1/10\n",
            "\u001b[1m16/16\u001b[0m \u001b[32m━━━━━━━━━━━━━━━━━━━━\u001b[0m\u001b[37m\u001b[0m \u001b[1m64s\u001b[0m 2s/step - loss: 0.2673 - mae: 0.4898 - val_loss: 0.2646 - val_mae: 0.4922\n",
            "Epoch 2/10\n",
            "\u001b[1m16/16\u001b[0m \u001b[32m━━━━━━━━━━━━━━━━━━━━\u001b[0m\u001b[37m\u001b[0m \u001b[1m22s\u001b[0m 254ms/step - loss: 0.2687 - mae: 0.4924 - val_loss: 0.2646 - val_mae: 0.4922\n",
            "Epoch 3/10\n",
            "\u001b[1m16/16\u001b[0m \u001b[32m━━━━━━━━━━━━━━━━━━━━\u001b[0m\u001b[37m\u001b[0m \u001b[1m5s\u001b[0m 252ms/step - loss: 0.2709 - mae: 0.4943 - val_loss: 0.2646 - val_mae: 0.4922\n",
            "Epoch 4/10\n",
            "\u001b[1m16/16\u001b[0m \u001b[32m━━━━━━━━━━━━━━━━━━━━\u001b[0m\u001b[37m\u001b[0m \u001b[1m5s\u001b[0m 262ms/step - loss: 0.2717 - mae: 0.4941 - val_loss: 0.2646 - val_mae: 0.4922\n",
            "Epoch 5/10\n",
            "\u001b[1m16/16\u001b[0m \u001b[32m━━━━━━━━━━━━━━━━━━━━\u001b[0m\u001b[37m\u001b[0m \u001b[1m5s\u001b[0m 258ms/step - loss: 0.2671 - mae: 0.4887 - val_loss: 0.2646 - val_mae: 0.4922\n",
            "Epoch 6/10\n",
            "\u001b[1m16/16\u001b[0m \u001b[32m━━━━━━━━━━━━━━━━━━━━\u001b[0m\u001b[37m\u001b[0m \u001b[1m5s\u001b[0m 262ms/step - loss: 0.2720 - mae: 0.4940 - val_loss: 0.2646 - val_mae: 0.4922\n",
            "Epoch 7/10\n",
            "\u001b[1m16/16\u001b[0m \u001b[32m━━━━━━━━━━━━━━━━━━━━\u001b[0m\u001b[37m\u001b[0m \u001b[1m4s\u001b[0m 263ms/step - loss: 0.2685 - mae: 0.4916 - val_loss: 0.2646 - val_mae: 0.4922\n",
            "Epoch 8/10\n",
            "\u001b[1m16/16\u001b[0m \u001b[32m━━━━━━━━━━━━━━━━━━━━\u001b[0m\u001b[37m\u001b[0m \u001b[1m4s\u001b[0m 264ms/step - loss: 0.2735 - mae: 0.4973 - val_loss: 0.2646 - val_mae: 0.4922\n",
            "Epoch 9/10\n",
            "\u001b[1m16/16\u001b[0m \u001b[32m━━━━━━━━━━━━━━━━━━━━\u001b[0m\u001b[37m\u001b[0m \u001b[1m5s\u001b[0m 266ms/step - loss: 0.2745 - mae: 0.4970 - val_loss: 0.2646 - val_mae: 0.4922\n",
            "Epoch 10/10\n",
            "\u001b[1m16/16\u001b[0m \u001b[32m━━━━━━━━━━━━━━━━━━━━\u001b[0m\u001b[37m\u001b[0m \u001b[1m4s\u001b[0m 270ms/step - loss: 0.2706 - mae: 0.4939 - val_loss: 0.2646 - val_mae: 0.4922\n",
            "\u001b[1m2/2\u001b[0m \u001b[32m━━━━━━━━━━━━━━━━━━━━\u001b[0m\u001b[37m\u001b[0m \u001b[1m0s\u001b[0m 139ms/step - loss: 0.2655 - mae: 0.4921\n",
            "VGG16 - Loss: 0.26464423537254333, Acc: 0.4921990633010864\n"
          ]
        },
        {
          "output_type": "display_data",
          "data": {
            "text/plain": [
              "<Figure size 1200x500 with 1 Axes>"
            ],
            "image/png": "[encoded data removed]"
          },
          "metadata": {}
        }
      ]
    },
    {
      "cell_type": "markdown",
      "source": [
        "# Google LeNet"
      ],
      "metadata": {
        "id": "WU99MZJD2lf6"
      }
    },
    {
      "cell_type": "code",
      "source": [
        "from tensorflow.keras.applications import InceptionV3\n",
        "from tensorflow.keras.applications.inception_v3 import preprocess_input as preprocess_input_inception\n",
        "\n",
        "images_inception = preprocess_images(image_paths, model_type=\"inception\")\n",
        "\n",
        "inception_model = InceptionV3(weights='imagenet', include_top=False, pooling='avg', input_shape=(299, 299, 3))\n",
        "\n",
        "inception_regression = build_regression_model(inception_model, \"InceptionV3_Regression\")\n",
        "\n",
        "X_train_inception, X_val_inception = train_test_split(images_inception, test_size=0.2, random_state=42)\n"
      ],
      "metadata": {
        "colab": {
          "base_uri": "https://localhost:8080/"
        },
        "collapsed": true,
        "id": "FOStO3VRMGeg",
        "outputId": "e91eedf7-35ff-4126-9fa2-536ab89d60db"
      },
      "execution_count": 16,
      "outputs": [
        {
          "output_type": "stream",
          "name": "stdout",
          "text": [
            "Downloading data from https://storage.googleapis.com/tensorflow/keras-applications/inception_v3/inception_v3_weights_tf_dim_ordering_tf_kernels_notop.h5\n",
            "\u001b[1m87910968/87910968\u001b[0m \u001b[32m━━━━━━━━━━━━━━━━━━━━\u001b[0m\u001b[37m\u001b[0m \u001b[1m1s\u001b[0m 0us/step\n"
          ]
        }
      ]
    },
    {
      "cell_type": "code",
      "source": [
        "print(\"Training InceptionV3 regression model...\")\n",
        "history_inception = inception_regression.fit(X_train_inception, y_train, validation_data=(X_val_inception, y_val), epochs=10, batch_size=16)\n",
        "\n",
        "inception_loss, inception_mae = inception_regression.evaluate(X_val_inception, y_val)\n",
        "\n",
        "print(f\"InceptionV3 - Loss: {inception_loss}, Acc: {inception_mae}\")\n",
        "\n",
        "plot_training_history(history_inception, \"InceptionV3\")"
      ],
      "metadata": {
        "colab": {
          "base_uri": "https://localhost:8080/",
          "height": 867
        },
        "id": "_9h-E0fIebnK",
        "outputId": "0bd9808b-c85b-4485-c04b-409a0501de18"
      },
      "execution_count": 17,
      "outputs": [
        {
          "output_type": "stream",
          "name": "stdout",
          "text": [
            "Training InceptionV3 regression model...\n",
            "Epoch 1/10\n",
            "\u001b[1m16/16\u001b[0m \u001b[32m━━━━━━━━━━━━━━━━━━━━\u001b[0m\u001b[37m\u001b[0m \u001b[1m161s\u001b[0m 5s/step - loss: 0.0616 - mae: 0.1866 - val_loss: 0.2802 - val_mae: 0.5078\n",
            "Epoch 2/10\n",
            "\u001b[1m16/16\u001b[0m \u001b[32m━━━━━━━━━━━━━━━━━━━━\u001b[0m\u001b[37m\u001b[0m \u001b[1m17s\u001b[0m 228ms/step - loss: 0.0084 - mae: 0.0677 - val_loss: 0.3089 - val_mae: 0.5364\n",
            "Epoch 3/10\n",
            "\u001b[1m16/16\u001b[0m \u001b[32m━━━━━━━━━━━━━━━━━━━━\u001b[0m\u001b[37m\u001b[0m \u001b[1m5s\u001b[0m 236ms/step - loss: 0.0066 - mae: 0.0594 - val_loss: 0.2858 - val_mae: 0.5144\n",
            "Epoch 4/10\n",
            "\u001b[1m16/16\u001b[0m \u001b[32m━━━━━━━━━━━━━━━━━━━━\u001b[0m\u001b[37m\u001b[0m \u001b[1m4s\u001b[0m 231ms/step - loss: 0.0054 - mae: 0.0591 - val_loss: 0.2788 - val_mae: 0.5064\n",
            "Epoch 5/10\n",
            "\u001b[1m16/16\u001b[0m \u001b[32m━━━━━━━━━━━━━━━━━━━━\u001b[0m\u001b[37m\u001b[0m \u001b[1m5s\u001b[0m 233ms/step - loss: 0.0045 - mae: 0.0514 - val_loss: 0.2382 - val_mae: 0.4490\n",
            "Epoch 6/10\n",
            "\u001b[1m16/16\u001b[0m \u001b[32m━━━━━━━━━━━━━━━━━━━━\u001b[0m\u001b[37m\u001b[0m \u001b[1m5s\u001b[0m 237ms/step - loss: 0.0049 - mae: 0.0560 - val_loss: 0.0941 - val_mae: 0.2647\n",
            "Epoch 7/10\n",
            "\u001b[1m16/16\u001b[0m \u001b[32m━━━━━━━━━━━━━━━━━━━━\u001b[0m\u001b[37m\u001b[0m \u001b[1m4s\u001b[0m 231ms/step - loss: 0.0043 - mae: 0.0530 - val_loss: 0.1185 - val_mae: 0.3093\n",
            "Epoch 8/10\n",
            "\u001b[1m16/16\u001b[0m \u001b[32m━━━━━━━━━━━━━━━━━━━━\u001b[0m\u001b[37m\u001b[0m \u001b[1m5s\u001b[0m 229ms/step - loss: 0.0032 - mae: 0.0449 - val_loss: 0.0872 - val_mae: 0.2424\n",
            "Epoch 9/10\n",
            "\u001b[1m16/16\u001b[0m \u001b[32m━━━━━━━━━━━━━━━━━━━━\u001b[0m\u001b[37m\u001b[0m \u001b[1m5s\u001b[0m 235ms/step - loss: 0.0026 - mae: 0.0402 - val_loss: 0.0215 - val_mae: 0.1111\n",
            "Epoch 10/10\n",
            "\u001b[1m16/16\u001b[0m \u001b[32m━━━━━━━━━━━━━━━━━━━━\u001b[0m\u001b[37m\u001b[0m \u001b[1m5s\u001b[0m 226ms/step - loss: 0.0044 - mae: 0.0536 - val_loss: 0.0452 - val_mae: 0.1740\n",
            "\u001b[1m2/2\u001b[0m \u001b[32m━━━━━━━━━━━━━━━━━━━━\u001b[0m\u001b[37m\u001b[0m \u001b[1m29s\u001b[0m 14s/step - loss: 0.0453 - mae: 0.1741\n",
            "InceptionV3 - Loss: 0.04515731707215309, Acc: 0.17401796579360962\n"
          ]
        },
        {
          "output_type": "display_data",
          "data": {
            "text/plain": [
              "<Figure size 1200x500 with 1 Axes>"
            ],
            "image/png": "[encoded data removed]"
          },
          "metadata": {}
        }
      ]
    },
    {
      "cell_type": "markdown",
      "source": [
        "# ResNet"
      ],
      "metadata": {
        "id": "3dlgmoOG2pb-"
      }
    },
    {
      "cell_type": "code",
      "source": [
        "from tensorflow.keras.applications import ResNet50\n",
        "from tensorflow.keras.applications.resnet50 import preprocess_input as preprocess_input_resnet\n",
        "from tensorflow.keras.layers import Dense\n",
        "\n",
        "images_resnet = preprocess_images(image_paths, model_type=\"resnet\")\n",
        "\n",
        "resnet_model = ResNet50(weights='imagenet', include_top=False, pooling='avg', input_shape=(224, 224, 3))\n",
        "\n",
        "resnet_regression = build_regression_model(resnet_model, \"ResNet50_Regression\")\n",
        "\n",
        "resnet_regression.build((None, 224, 224, 3))\n",
        "resnet_regression.compile(\n",
        "    optimizer=\"adam\",\n",
        "    loss=\"mean_squared_error\",\n",
        "    metrics=[\"mean_absolute_error\"]\n",
        ")\n",
        "\n",
        "X_train_resnet, X_val_resnet= train_test_split(images_resnet, test_size=0.2, random_state=42)"
      ],
      "metadata": {
        "colab": {
          "base_uri": "https://localhost:8080/"
        },
        "collapsed": true,
        "id": "EK6UA1BuMQM7",
        "outputId": "6a11023d-1db7-4102-e63b-a14be4afa38e"
      },
      "execution_count": 18,
      "outputs": [
        {
          "output_type": "stream",
          "name": "stdout",
          "text": [
            "Downloading data from https://storage.googleapis.com/tensorflow/keras-applications/resnet/resnet50_weights_tf_dim_ordering_tf_kernels_notop.h5\n",
            "\u001b[1m94765736/94765736\u001b[0m \u001b[32m━━━━━━━━━━━━━━━━━━━━\u001b[0m\u001b[37m\u001b[0m \u001b[1m0s\u001b[0m 0us/step\n"
          ]
        }
      ]
    },
    {
      "cell_type": "code",
      "source": [
        "print(\"Training ResNet50 regression model...\")\n",
        "history_resnet = resnet_regression.fit(X_train_resnet, y_train, validation_data=(X_val_resnet, y_val), epochs=10, batch_size=32)\n",
        "\n",
        "resnet_loss, resnet_mae = resnet_regression.evaluate(X_val_resnet, y_val)\n",
        "\n",
        "print(f\"ResNet50 - Loss: {resnet_loss}, MAE: {resnet_mae}\")\n",
        "\n",
        "plot_training_history(history_resnet, \"ResNet50\")"
      ],
      "metadata": {
        "colab": {
          "base_uri": "https://localhost:8080/",
          "height": 867
        },
        "id": "SItbUy6oh4qI",
        "outputId": "9271b1b5-6ede-4dec-ce00-0d7c8e38f1de"
      },
      "execution_count": 19,
      "outputs": [
        {
          "output_type": "stream",
          "name": "stdout",
          "text": [
            "Training ResNet50 regression model...\n",
            "Epoch 1/10\n",
            "\u001b[1m8/8\u001b[0m \u001b[32m━━━━━━━━━━━━━━━━━━━━\u001b[0m\u001b[37m\u001b[0m \u001b[1m109s\u001b[0m 6s/step - loss: 0.0937 - mean_absolute_error: 0.2549 - val_loss: 0.2506 - val_mean_absolute_error: 0.4757\n",
            "Epoch 2/10\n",
            "\u001b[1m8/8\u001b[0m \u001b[32m━━━━━━━━━━━━━━━━━━━━\u001b[0m\u001b[37m\u001b[0m \u001b[1m5s\u001b[0m 308ms/step - loss: 0.0231 - mean_absolute_error: 0.1105 - val_loss: 0.3238 - val_mean_absolute_error: 0.5514\n",
            "Epoch 3/10\n",
            "\u001b[1m8/8\u001b[0m \u001b[32m━━━━━━━━━━━━━━━━━━━━\u001b[0m\u001b[37m\u001b[0m \u001b[1m5s\u001b[0m 330ms/step - loss: 0.0100 - mean_absolute_error: 0.0748 - val_loss: 0.3089 - val_mean_absolute_error: 0.5364\n",
            "Epoch 4/10\n",
            "\u001b[1m8/8\u001b[0m \u001b[32m━━━━━━━━━━━━━━━━━━━━\u001b[0m\u001b[37m\u001b[0m \u001b[1m5s\u001b[0m 328ms/step - loss: 0.0054 - mean_absolute_error: 0.0553 - val_loss: 0.3089 - val_mean_absolute_error: 0.5364\n",
            "Epoch 5/10\n",
            "\u001b[1m8/8\u001b[0m \u001b[32m━━━━━━━━━━━━━━━━━━━━\u001b[0m\u001b[37m\u001b[0m \u001b[1m3s\u001b[0m 316ms/step - loss: 0.0049 - mean_absolute_error: 0.0525 - val_loss: 0.3089 - val_mean_absolute_error: 0.5364\n",
            "Epoch 6/10\n",
            "\u001b[1m8/8\u001b[0m \u001b[32m━━━━━━━━━━━━━━━━━━━━\u001b[0m\u001b[37m\u001b[0m \u001b[1m3s\u001b[0m 339ms/step - loss: 0.0047 - mean_absolute_error: 0.0518 - val_loss: 0.3089 - val_mean_absolute_error: 0.5364\n",
            "Epoch 7/10\n",
            "\u001b[1m8/8\u001b[0m \u001b[32m━━━━━━━━━━━━━━━━━━━━\u001b[0m\u001b[37m\u001b[0m \u001b[1m5s\u001b[0m 340ms/step - loss: 0.0060 - mean_absolute_error: 0.0531 - val_loss: 0.3170 - val_mean_absolute_error: 0.5406\n",
            "Epoch 8/10\n",
            "\u001b[1m8/8\u001b[0m \u001b[32m━━━━━━━━━━━━━━━━━━━━\u001b[0m\u001b[37m\u001b[0m \u001b[1m5s\u001b[0m 311ms/step - loss: 0.0025 - mean_absolute_error: 0.0385 - val_loss: 0.3019 - val_mean_absolute_error: 0.5297\n",
            "Epoch 9/10\n",
            "\u001b[1m8/8\u001b[0m \u001b[32m━━━━━━━━━━━━━━━━━━━━\u001b[0m\u001b[37m\u001b[0m \u001b[1m5s\u001b[0m 317ms/step - loss: 0.0023 - mean_absolute_error: 0.0367 - val_loss: 0.2372 - val_mean_absolute_error: 0.4358\n",
            "Epoch 10/10\n",
            "\u001b[1m8/8\u001b[0m \u001b[32m━━━━━━━━━━━━━━━━━━━━\u001b[0m\u001b[37m\u001b[0m \u001b[1m5s\u001b[0m 308ms/step - loss: 0.0015 - mean_absolute_error: 0.0277 - val_loss: 0.1783 - val_mean_absolute_error: 0.3610\n",
            "\u001b[1m2/2\u001b[0m \u001b[32m━━━━━━━━━━━━━━━━━━━━\u001b[0m\u001b[37m\u001b[0m \u001b[1m0s\u001b[0m 91ms/step - loss: 0.1735 - mean_absolute_error: 0.3527\n",
            "ResNet50 - Loss: 0.1783132553100586, MAE: 0.3609825372695923\n"
          ]
        },
        {
          "output_type": "display_data",
          "data": {
            "text/plain": [
              "<Figure size 1200x500 with 1 Axes>"
            ],
            "image/png": "[encoded data removed]"
          },
          "metadata": {}
        }
      ]
    }
  ]
}